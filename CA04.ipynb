{
  "nbformat": 4,
  "nbformat_minor": 0,
  "metadata": {
    "colab": {
      "provenance": []
    },
    "kernelspec": {
      "name": "python3",
      "display_name": "Python 3"
    },
    "language_info": {
      "name": "python"
    }
  },
  "cells": [
    {
      "cell_type": "markdown",
      "source": [
        "# C04 - Esemble Methods"
      ],
      "metadata": {
        "id": "C5SOR3CF73YC"
      }
    },
    {
      "cell_type": "markdown",
      "source": [
        "## 1. Data Source and Contents"
      ],
      "metadata": {
        "id": "2pKRZnXg77qh"
      }
    },
    {
      "cell_type": "code",
      "execution_count": 42,
      "metadata": {
        "colab": {
          "base_uri": "https://localhost:8080/"
        },
        "id": "FLO-mgss64d6",
        "outputId": "60681d2b-dc27-4e02-bdc4-96b71722f741"
      },
      "outputs": [
        {
          "output_type": "stream",
          "name": "stdout",
          "text": [
            "Looking in indexes: https://pypi.org/simple, https://us-python.pkg.dev/colab-wheels/public/simple/\n",
            "Requirement already satisfied: six in /usr/local/lib/python3.8/dist-packages (1.15.0)\n"
          ]
        }
      ],
      "source": [
        "# Install necessary packages\n",
        "\n",
        "import numpy as np\n",
        "import pandas as pd\n",
        "\n",
        "import matplotlib.pyplot as plt\n",
        "%matplotlib notebook\n",
        "%matplotlib inline\n",
        "import seaborn as sns\n",
        "\n",
        "from sklearn.preprocessing import LabelEncoder\n",
        "from sklearn.tree import DecisionTreeClassifier\n",
        "from sklearn.ensemble import RandomForestClassifier\n",
        "from sklearn.ensemble import AdaBoostClassifier\n",
        "from sklearn.ensemble import GradientBoostingClassifier\n",
        "from xgboost import XGBClassifier\n",
        " \n",
        "from IPython.display import Image  \n",
        "import graphviz\n",
        "from sklearn.tree import export_graphviz\n",
        "import pydotplus\n",
        "from sklearn import metrics\n",
        "from sklearn.metrics import accuracy_score\n",
        "from sklearn.metrics import classification_report\n",
        "from sklearn.metrics import confusion_matrix\n",
        "from sklearn.metrics import f1_score\n",
        "from sklearn.metrics import precision_score\n",
        "from sklearn.metrics import recall_score\n",
        "from sklearn.metrics import roc_auc_score\n",
        "from sklearn.metrics import roc_curve\n",
        "from sklearn.metrics import plot_roc_curve\n",
        "\n",
        "from tabulate import tabulate\n",
        "\n",
        "!pip install six\n",
        "from six import StringIO"
      ]
    },
    {
      "cell_type": "code",
      "source": [
        "# Read in data\n",
        "df = pd.read_csv(\"https://github.com/ArinB/MSBA-CA-03-Decision-Trees/blob/master/census_data.csv?raw=true\")"
      ],
      "metadata": {
        "id": "oDVDKDvq8DpV"
      },
      "execution_count": 43,
      "outputs": []
    },
    {
      "cell_type": "markdown",
      "source": [
        "We already made the necessary DQA analysis in CA03, so for CA04, we will make those transformations right away."
      ],
      "metadata": {
        "id": "ttQmJjk58LQu"
      }
    },
    {
      "cell_type": "code",
      "source": [
        "#Encode Variables\n",
        "df2 = pd.get_dummies(df, columns=[\"hours_per_week_bin\",\"occupation_bin\",\"msr_bin\",\n",
        "                                  \"capital_gl_bin\", \"race_sex_bin\",\"education_num_bin\",\n",
        "                                  \"education_bin\", \"workclass_bin\"\t,\"age_bin\"], \n",
        "                          prefix=[\"hours_per_week_bin\",\"occupation_bin\",\"msr_bin\",\n",
        "                                  \"capital_gl_bin\", \"race_sex_bin\",\"education_num_bin\",\n",
        "                                  \"education_bin\", \"workclass_bin\"\t,\"age_bin\"])\n",
        "df2.head()"
      ],
      "metadata": {
        "colab": {
          "base_uri": "https://localhost:8080/",
          "height": 334
        },
        "id": "IUh2nmTn8GBy",
        "outputId": "a993fc91-0ef1-40a9-f574-97225acaff7d"
      },
      "execution_count": 44,
      "outputs": [
        {
          "output_type": "execute_result",
          "data": {
            "text/plain": [
              "    flag  y  hours_per_week_bin_a. 0-30  hours_per_week_bin_b. 31-40  \\\n",
              "0  train  0                           0                            1   \n",
              "1  train  0                           1                            0   \n",
              "2  train  0                           0                            1   \n",
              "3  train  0                           0                            1   \n",
              "4  train  0                           0                            1   \n",
              "\n",
              "   hours_per_week_bin_c. 71-100  hours_per_week_bin_d. 41-50 & 61-70  \\\n",
              "0                             0                                    0   \n",
              "1                             0                                    0   \n",
              "2                             0                                    0   \n",
              "3                             0                                    0   \n",
              "4                             0                                    0   \n",
              "\n",
              "   hours_per_week_bin_e. 51-60  occupation_bin_a. Low  \\\n",
              "0                            0                      0   \n",
              "1                            0                      0   \n",
              "2                            0                      1   \n",
              "3                            0                      1   \n",
              "4                            0                      0   \n",
              "\n",
              "   occupation_bin_b. Mid - Low  occupation_bin_c. Mid - Mid  ...  \\\n",
              "0                            1                            0  ...   \n",
              "1                            0                            0  ...   \n",
              "2                            0                            0  ...   \n",
              "3                            0                            0  ...   \n",
              "4                            0                            0  ...   \n",
              "\n",
              "   education_bin_c. Bachelors  education_bin_d. Masters  \\\n",
              "0                           1                         0   \n",
              "1                           1                         0   \n",
              "2                           0                         0   \n",
              "3                           0                         0   \n",
              "4                           1                         0   \n",
              "\n",
              "   education_bin_e. High  workclass_bin_a. no income  workclass_bin_b. income  \\\n",
              "0                      0                           0                        1   \n",
              "1                      0                           0                        1   \n",
              "2                      0                           0                        1   \n",
              "3                      0                           0                        1   \n",
              "4                      0                           0                        1   \n",
              "\n",
              "   age_bin_a. 0-25  age_bin_b. 26-30 & 71-100  age_bin_c. 31-35 & 61-70  \\\n",
              "0                0                          0                         0   \n",
              "1                0                          0                         0   \n",
              "2                0                          0                         0   \n",
              "3                0                          0                         0   \n",
              "4                0                          1                         0   \n",
              "\n",
              "   age_bin_d. 36-40 & 56-60  age_bin_e. 40-55  \n",
              "0                         1                 0  \n",
              "1                         0                 1  \n",
              "2                         1                 0  \n",
              "3                         0                 1  \n",
              "4                         0                 0  \n",
              "\n",
              "[5 rows x 38 columns]"
            ],
            "text/html": [
              "\n",
              "  <div id=\"df-179d8735-7155-4b94-a862-3dbac5e2b1df\">\n",
              "    <div class=\"colab-df-container\">\n",
              "      <div>\n",
              "<style scoped>\n",
              "    .dataframe tbody tr th:only-of-type {\n",
              "        vertical-align: middle;\n",
              "    }\n",
              "\n",
              "    .dataframe tbody tr th {\n",
              "        vertical-align: top;\n",
              "    }\n",
              "\n",
              "    .dataframe thead th {\n",
              "        text-align: right;\n",
              "    }\n",
              "</style>\n",
              "<table border=\"1\" class=\"dataframe\">\n",
              "  <thead>\n",
              "    <tr style=\"text-align: right;\">\n",
              "      <th></th>\n",
              "      <th>flag</th>\n",
              "      <th>y</th>\n",
              "      <th>hours_per_week_bin_a. 0-30</th>\n",
              "      <th>hours_per_week_bin_b. 31-40</th>\n",
              "      <th>hours_per_week_bin_c. 71-100</th>\n",
              "      <th>hours_per_week_bin_d. 41-50 &amp; 61-70</th>\n",
              "      <th>hours_per_week_bin_e. 51-60</th>\n",
              "      <th>occupation_bin_a. Low</th>\n",
              "      <th>occupation_bin_b. Mid - Low</th>\n",
              "      <th>occupation_bin_c. Mid - Mid</th>\n",
              "      <th>...</th>\n",
              "      <th>education_bin_c. Bachelors</th>\n",
              "      <th>education_bin_d. Masters</th>\n",
              "      <th>education_bin_e. High</th>\n",
              "      <th>workclass_bin_a. no income</th>\n",
              "      <th>workclass_bin_b. income</th>\n",
              "      <th>age_bin_a. 0-25</th>\n",
              "      <th>age_bin_b. 26-30 &amp; 71-100</th>\n",
              "      <th>age_bin_c. 31-35 &amp; 61-70</th>\n",
              "      <th>age_bin_d. 36-40 &amp; 56-60</th>\n",
              "      <th>age_bin_e. 40-55</th>\n",
              "    </tr>\n",
              "  </thead>\n",
              "  <tbody>\n",
              "    <tr>\n",
              "      <th>0</th>\n",
              "      <td>train</td>\n",
              "      <td>0</td>\n",
              "      <td>0</td>\n",
              "      <td>1</td>\n",
              "      <td>0</td>\n",
              "      <td>0</td>\n",
              "      <td>0</td>\n",
              "      <td>0</td>\n",
              "      <td>1</td>\n",
              "      <td>0</td>\n",
              "      <td>...</td>\n",
              "      <td>1</td>\n",
              "      <td>0</td>\n",
              "      <td>0</td>\n",
              "      <td>0</td>\n",
              "      <td>1</td>\n",
              "      <td>0</td>\n",
              "      <td>0</td>\n",
              "      <td>0</td>\n",
              "      <td>1</td>\n",
              "      <td>0</td>\n",
              "    </tr>\n",
              "    <tr>\n",
              "      <th>1</th>\n",
              "      <td>train</td>\n",
              "      <td>0</td>\n",
              "      <td>1</td>\n",
              "      <td>0</td>\n",
              "      <td>0</td>\n",
              "      <td>0</td>\n",
              "      <td>0</td>\n",
              "      <td>0</td>\n",
              "      <td>0</td>\n",
              "      <td>0</td>\n",
              "      <td>...</td>\n",
              "      <td>1</td>\n",
              "      <td>0</td>\n",
              "      <td>0</td>\n",
              "      <td>0</td>\n",
              "      <td>1</td>\n",
              "      <td>0</td>\n",
              "      <td>0</td>\n",
              "      <td>0</td>\n",
              "      <td>0</td>\n",
              "      <td>1</td>\n",
              "    </tr>\n",
              "    <tr>\n",
              "      <th>2</th>\n",
              "      <td>train</td>\n",
              "      <td>0</td>\n",
              "      <td>0</td>\n",
              "      <td>1</td>\n",
              "      <td>0</td>\n",
              "      <td>0</td>\n",
              "      <td>0</td>\n",
              "      <td>1</td>\n",
              "      <td>0</td>\n",
              "      <td>0</td>\n",
              "      <td>...</td>\n",
              "      <td>0</td>\n",
              "      <td>0</td>\n",
              "      <td>0</td>\n",
              "      <td>0</td>\n",
              "      <td>1</td>\n",
              "      <td>0</td>\n",
              "      <td>0</td>\n",
              "      <td>0</td>\n",
              "      <td>1</td>\n",
              "      <td>0</td>\n",
              "    </tr>\n",
              "    <tr>\n",
              "      <th>3</th>\n",
              "      <td>train</td>\n",
              "      <td>0</td>\n",
              "      <td>0</td>\n",
              "      <td>1</td>\n",
              "      <td>0</td>\n",
              "      <td>0</td>\n",
              "      <td>0</td>\n",
              "      <td>1</td>\n",
              "      <td>0</td>\n",
              "      <td>0</td>\n",
              "      <td>...</td>\n",
              "      <td>0</td>\n",
              "      <td>0</td>\n",
              "      <td>0</td>\n",
              "      <td>0</td>\n",
              "      <td>1</td>\n",
              "      <td>0</td>\n",
              "      <td>0</td>\n",
              "      <td>0</td>\n",
              "      <td>0</td>\n",
              "      <td>1</td>\n",
              "    </tr>\n",
              "    <tr>\n",
              "      <th>4</th>\n",
              "      <td>train</td>\n",
              "      <td>0</td>\n",
              "      <td>0</td>\n",
              "      <td>1</td>\n",
              "      <td>0</td>\n",
              "      <td>0</td>\n",
              "      <td>0</td>\n",
              "      <td>0</td>\n",
              "      <td>0</td>\n",
              "      <td>0</td>\n",
              "      <td>...</td>\n",
              "      <td>1</td>\n",
              "      <td>0</td>\n",
              "      <td>0</td>\n",
              "      <td>0</td>\n",
              "      <td>1</td>\n",
              "      <td>0</td>\n",
              "      <td>1</td>\n",
              "      <td>0</td>\n",
              "      <td>0</td>\n",
              "      <td>0</td>\n",
              "    </tr>\n",
              "  </tbody>\n",
              "</table>\n",
              "<p>5 rows × 38 columns</p>\n",
              "</div>\n",
              "      <button class=\"colab-df-convert\" onclick=\"convertToInteractive('df-179d8735-7155-4b94-a862-3dbac5e2b1df')\"\n",
              "              title=\"Convert this dataframe to an interactive table.\"\n",
              "              style=\"display:none;\">\n",
              "        \n",
              "  <svg xmlns=\"http://www.w3.org/2000/svg\" height=\"24px\"viewBox=\"0 0 24 24\"\n",
              "       width=\"24px\">\n",
              "    <path d=\"M0 0h24v24H0V0z\" fill=\"none\"/>\n",
              "    <path d=\"M18.56 5.44l.94 2.06.94-2.06 2.06-.94-2.06-.94-.94-2.06-.94 2.06-2.06.94zm-11 1L8.5 8.5l.94-2.06 2.06-.94-2.06-.94L8.5 2.5l-.94 2.06-2.06.94zm10 10l.94 2.06.94-2.06 2.06-.94-2.06-.94-.94-2.06-.94 2.06-2.06.94z\"/><path d=\"M17.41 7.96l-1.37-1.37c-.4-.4-.92-.59-1.43-.59-.52 0-1.04.2-1.43.59L10.3 9.45l-7.72 7.72c-.78.78-.78 2.05 0 2.83L4 21.41c.39.39.9.59 1.41.59.51 0 1.02-.2 1.41-.59l7.78-7.78 2.81-2.81c.8-.78.8-2.07 0-2.86zM5.41 20L4 18.59l7.72-7.72 1.47 1.35L5.41 20z\"/>\n",
              "  </svg>\n",
              "      </button>\n",
              "      \n",
              "  <style>\n",
              "    .colab-df-container {\n",
              "      display:flex;\n",
              "      flex-wrap:wrap;\n",
              "      gap: 12px;\n",
              "    }\n",
              "\n",
              "    .colab-df-convert {\n",
              "      background-color: #E8F0FE;\n",
              "      border: none;\n",
              "      border-radius: 50%;\n",
              "      cursor: pointer;\n",
              "      display: none;\n",
              "      fill: #1967D2;\n",
              "      height: 32px;\n",
              "      padding: 0 0 0 0;\n",
              "      width: 32px;\n",
              "    }\n",
              "\n",
              "    .colab-df-convert:hover {\n",
              "      background-color: #E2EBFA;\n",
              "      box-shadow: 0px 1px 2px rgba(60, 64, 67, 0.3), 0px 1px 3px 1px rgba(60, 64, 67, 0.15);\n",
              "      fill: #174EA6;\n",
              "    }\n",
              "\n",
              "    [theme=dark] .colab-df-convert {\n",
              "      background-color: #3B4455;\n",
              "      fill: #D2E3FC;\n",
              "    }\n",
              "\n",
              "    [theme=dark] .colab-df-convert:hover {\n",
              "      background-color: #434B5C;\n",
              "      box-shadow: 0px 1px 3px 1px rgba(0, 0, 0, 0.15);\n",
              "      filter: drop-shadow(0px 1px 2px rgba(0, 0, 0, 0.3));\n",
              "      fill: #FFFFFF;\n",
              "    }\n",
              "  </style>\n",
              "\n",
              "      <script>\n",
              "        const buttonEl =\n",
              "          document.querySelector('#df-179d8735-7155-4b94-a862-3dbac5e2b1df button.colab-df-convert');\n",
              "        buttonEl.style.display =\n",
              "          google.colab.kernel.accessAllowed ? 'block' : 'none';\n",
              "\n",
              "        async function convertToInteractive(key) {\n",
              "          const element = document.querySelector('#df-179d8735-7155-4b94-a862-3dbac5e2b1df');\n",
              "          const dataTable =\n",
              "            await google.colab.kernel.invokeFunction('convertToInteractive',\n",
              "                                                     [key], {});\n",
              "          if (!dataTable) return;\n",
              "\n",
              "          const docLinkHtml = 'Like what you see? Visit the ' +\n",
              "            '<a target=\"_blank\" href=https://colab.research.google.com/notebooks/data_table.ipynb>data table notebook</a>'\n",
              "            + ' to learn more about interactive tables.';\n",
              "          element.innerHTML = '';\n",
              "          dataTable['output_type'] = 'display_data';\n",
              "          await google.colab.output.renderOutput(dataTable, element);\n",
              "          const docLink = document.createElement('div');\n",
              "          docLink.innerHTML = docLinkHtml;\n",
              "          element.appendChild(docLink);\n",
              "        }\n",
              "      </script>\n",
              "    </div>\n",
              "  </div>\n",
              "  "
            ]
          },
          "metadata": {},
          "execution_count": 44
        }
      ]
    },
    {
      "cell_type": "code",
      "source": [
        "df2.rename({\"capital_gl_bin_a. = 0\": \"capital_gl_bin_a.\", \n",
        "           \"capital_gl_bin_b. < 0\": \"capital_gl_bin_b.\", \n",
        "           \"capital_gl_bin_c. > 0\": \"capital_gl_bin_c.\"}, \n",
        "          axis = \"columns\", inplace = True)"
      ],
      "metadata": {
        "id": "D1n0bGf3ISAC"
      },
      "execution_count": 45,
      "outputs": []
    },
    {
      "cell_type": "code",
      "source": [
        "# Splitting data into Training and Testing\n",
        "train_data = df2[df2.flag == \"train\"]\n",
        "test_data = df2[df2.flag == \"test\"]"
      ],
      "metadata": {
        "id": "pAPQ24AY8K2E"
      },
      "execution_count": 46,
      "outputs": []
    },
    {
      "cell_type": "code",
      "source": [
        "# Split testing and training data with independant and dependant variables\n",
        "x_train = train_data.iloc[:,2:]\n",
        "y_train = train_data[\"y\"]\n",
        "\n",
        "x_test = test_data.iloc[:,2:]\n",
        "y_test = test_data[\"y\"]"
      ],
      "metadata": {
        "id": "_13AyMXh8XdR"
      },
      "execution_count": 47,
      "outputs": []
    },
    {
      "cell_type": "markdown",
      "source": [
        "Now that the data has been encoded and split into training and testing data, we can test our ensemble models on the data."
      ],
      "metadata": {
        "id": "JGOJj2Bt8iJx"
      }
    },
    {
      "cell_type": "markdown",
      "source": [
        "## 2. Finding Optimal Value of a Key Ensemble Method Hyper-Parameter"
      ],
      "metadata": {
        "id": "iH3IkMSk8qIw"
      }
    },
    {
      "cell_type": "markdown",
      "source": [
        "Per the instructions, we need to use the sample code to understand how the optimal hyper-paramter is determined."
      ],
      "metadata": {
        "id": "kdPXgHGUGAFe"
      }
    },
    {
      "cell_type": "code",
      "source": [
        "results = []\n",
        "max_depth_options = [2,4,6,8,10,12,14,16,18,20]\n",
        "for trees in max_depth_options:\n",
        "  model = DecisionTreeClassifier(max_depth = trees,random_state=101)\n",
        "  model.fit(x_train,y_train)\n",
        "  y_pred = model.predict(x_test)\n",
        "  accuracy = np.mean(y_test == y_pred)\n",
        "  results.append(accuracy)\n",
        "\n",
        "plt.figure(figsize=(8,4))\n",
        "pd.Series(results, max_depth_options).plot(color = \"darkred\",marker= \"o\")"
      ],
      "metadata": {
        "colab": {
          "base_uri": "https://localhost:8080/",
          "height": 283
        },
        "id": "xNjVIqo9F_iE",
        "outputId": "f65989ac-2e22-46b4-c161-16b699befbc3"
      },
      "execution_count": 48,
      "outputs": [
        {
          "output_type": "execute_result",
          "data": {
            "text/plain": [
              "<AxesSubplot:>"
            ]
          },
          "metadata": {},
          "execution_count": 48
        },
        {
          "output_type": "display_data",
          "data": {
            "text/plain": [
              "<Figure size 576x288 with 1 Axes>"
            ],
            "image/png": "[encoded data removed]"
          },
          "metadata": {
            "needs_background": "light"
          }
        }
      ]
    },
    {
      "cell_type": "markdown",
      "source": [
        "In this case, the optimal hyper-parameter for Max Depth is 8."
      ],
      "metadata": {
        "id": "GdYtCVDLG21t"
      }
    },
    {
      "cell_type": "markdown",
      "source": [
        "## 3. Building a Random Forest Model"
      ],
      "metadata": {
        "id": "RN2xSfEqG8JK"
      }
    },
    {
      "cell_type": "markdown",
      "source": [
        "First we need to test:\n",
        "\n",
        "\n",
        "1.   Accuracy vs n_estimators\n",
        "2.   AUC vs n_estimators\n",
        "\n",
        "Once we do this, we can determine the optimal number of estimators to use and produce a model.\n",
        "\n"
      ],
      "metadata": {
        "id": "zIKG41H7HklX"
      }
    },
    {
      "cell_type": "code",
      "source": [
        "# Plotting the results of Accuracy vs n_estimators\n",
        "results = []\n",
        "y_pred = []\n",
        "auc_score =[]\n",
        "n_estimator_options = [50,100,150,200,250,300,350,400,450,500]\n",
        "for trees in n_estimator_options:\n",
        "  model = RandomForestClassifier(n_estimators = trees, random_state = 101)\n",
        "  model.fit(x_train,y_train)\n",
        "  y_pred = model.predict(x_test)\n",
        "  accuracy = np.mean(y_test == y_pred)\n",
        "  results.append(accuracy)\n",
        "  auc_score.append(roc_auc_score(y_test, y_pred))\n",
        "\n",
        "plt.figure(figsize = (8,4))\n",
        "pd.Series(results, n_estimator_options).plot(color = \"darkred\",marker = \"o\")"
      ],
      "metadata": {
        "colab": {
          "base_uri": "https://localhost:8080/",
          "height": 283
        },
        "id": "c9Wcypt38gTF",
        "outputId": "e1ed213e-a0a8-42af-ff7d-a9101d7d2a09"
      },
      "execution_count": 49,
      "outputs": [
        {
          "output_type": "execute_result",
          "data": {
            "text/plain": [
              "<AxesSubplot:>"
            ]
          },
          "metadata": {},
          "execution_count": 49
        },
        {
          "output_type": "display_data",
          "data": {
            "text/plain": [
              "<Figure size 576x288 with 1 Axes>"
            ],
            "image/png": "[encoded data removed]"
          },
          "metadata": {
            "needs_background": "light"
          }
        }
      ]
    },
    {
      "cell_type": "code",
      "source": [
        "# Plotting the results of AUC vs n_estimators\n",
        "plt.figure(figsize = (8,4))\n",
        "pd.Series(auc_score, n_estimator_options).plot(color = \"darkred\",marker = \"o\")"
      ],
      "metadata": {
        "colab": {
          "base_uri": "https://localhost:8080/",
          "height": 283
        },
        "id": "9GgklKB3MaPU",
        "outputId": "b8bb799e-d792-4315-b86c-cb15f9f7d19d"
      },
      "execution_count": 50,
      "outputs": [
        {
          "output_type": "execute_result",
          "data": {
            "text/plain": [
              "<AxesSubplot:>"
            ]
          },
          "metadata": {},
          "execution_count": 50
        },
        {
          "output_type": "display_data",
          "data": {
            "text/plain": [
              "<Figure size 576x288 with 1 Axes>"
            ],
            "image/png": "[encoded data removed]"
          },
          "metadata": {
            "needs_background": "light"
          }
        }
      ]
    },
    {
      "cell_type": "markdown",
      "source": [
        "Questions\n",
        "1. Write your observations about the Classifier's behavior with respect to the number of estimators.\n",
        "\n",
        "\n",
        "> The first graph produced that measures accuracy shows an odd looking \"W\" shape as the number of estimators in the different models increase. The second graph that measures AUC has a \"V\" shape. Based on the two graphs, I think that it is best to keep the model simple and choose an n_estimator hyper-parameter of 100.\n",
        "\n",
        "2. Is there an optimal value of the estimator within the given range?\n",
        "\n",
        "> Based on the two graphs, I think that it is best to keep the model simple and choose an n_estimator hyper-parameter of 100."
      ],
      "metadata": {
        "id": "0bYkOE3hW_m3"
      }
    },
    {
      "cell_type": "code",
      "source": [
        "# Creating and Testing the Model\n",
        "rforest = RandomForestClassifier(n_estimators = 100)\n",
        "rforest.fit(x_train,y_train)\n",
        "y_pred = rforest.predict(x_test)\n",
        "RF_accuracy = np.mean(y_test == y_pred)\n",
        "RF_auc = roc_auc_score(y_test, y_pred)"
      ],
      "metadata": {
        "id": "lsswsN2yaSpd"
      },
      "execution_count": 51,
      "outputs": []
    },
    {
      "cell_type": "markdown",
      "source": [
        "## 4. Building AdaBoost, Gradient Boost, and XGB"
      ],
      "metadata": {
        "id": "hIKEWZALcHPv"
      }
    },
    {
      "cell_type": "markdown",
      "source": [
        "We need to repeat the process that we did in step 3 for AdaBoost, Gradient Boost, and XGB. "
      ],
      "metadata": {
        "id": "VkxOOe-6cizo"
      }
    },
    {
      "cell_type": "markdown",
      "source": [
        "### AdaBoost"
      ],
      "metadata": {
        "id": "GUwd-qL-eauv"
      }
    },
    {
      "cell_type": "code",
      "source": [
        "# AdaBoost\n",
        "# Plotting the results of Accuracy vs n_estimators\n",
        "results = []\n",
        "y_pred = []\n",
        "auc_score =[]\n",
        "n_estimator_options = [50,100,150,200,250,300,350,400,450,500]\n",
        "for trees in n_estimator_options:\n",
        "  model = AdaBoostClassifier(n_estimators = trees, random_state = 101)\n",
        "  model.fit(x_train,y_train)\n",
        "  y_pred = model.predict(x_test)\n",
        "  accuracy = np.mean(y_test == y_pred)\n",
        "  results.append(accuracy)\n",
        "  auc_score.append(roc_auc_score(y_test, y_pred))\n",
        "\n",
        "plt.figure(figsize = (8,4))\n",
        "pd.Series(results, n_estimator_options).plot(color = \"darkred\",marker = \"o\")"
      ],
      "metadata": {
        "colab": {
          "base_uri": "https://localhost:8080/",
          "height": 283
        },
        "id": "is5-HRPUchl2",
        "outputId": "484f7316-bc48-42e6-ae0d-3b56b675cd82"
      },
      "execution_count": 52,
      "outputs": [
        {
          "output_type": "execute_result",
          "data": {
            "text/plain": [
              "<AxesSubplot:>"
            ]
          },
          "metadata": {},
          "execution_count": 52
        },
        {
          "output_type": "display_data",
          "data": {
            "text/plain": [
              "<Figure size 576x288 with 1 Axes>"
            ],
            "image/png": "[encoded data removed]"
          },
          "metadata": {
            "needs_background": "light"
          }
        }
      ]
    },
    {
      "cell_type": "code",
      "source": [
        "# Plotting the results of AUC vs n_estimators\n",
        "plt.figure(figsize = (8,4))\n",
        "pd.Series(auc_score, n_estimator_options).plot(color = \"darkred\",marker = \"o\")"
      ],
      "metadata": {
        "colab": {
          "base_uri": "https://localhost:8080/",
          "height": 285
        },
        "id": "bYNhMoOqeLS4",
        "outputId": "ec7940f1-28fd-43cf-da96-173046cb4e69"
      },
      "execution_count": 53,
      "outputs": [
        {
          "output_type": "execute_result",
          "data": {
            "text/plain": [
              "<AxesSubplot:>"
            ]
          },
          "metadata": {},
          "execution_count": 53
        },
        {
          "output_type": "display_data",
          "data": {
            "text/plain": [
              "<Figure size 576x288 with 1 Axes>"
            ],
            "image/png": "[encoded data removed]"
          },
          "metadata": {
            "needs_background": "light"
          }
        }
      ]
    },
    {
      "cell_type": "markdown",
      "source": [
        "Questions\n",
        "1. Write your observations about the Classifier's behavior with respect to the number of estimators.\n",
        "\n",
        "\n",
        "> Both graphs paint very similar pictures. The accuracy and AUC value for n_estimators with 50 is higher than the rest of the points tested. I am not sure why that this is the case, but it makes it clear which value to choose for n_estimators. It is important, though, to look at the graph axes. Although the difference vertically seems very significant, the data points are actually close in value to each other. For example, in the AUC curve the difference is about 0.3%.\n",
        "\n",
        "2. Is there an optimal value of the estimator within the given range?\n",
        "\n",
        "> Based on the above, we can choose n_estimaors as 50 for the AdaBoost model."
      ],
      "metadata": {
        "id": "nwr_l5LbeQxV"
      }
    },
    {
      "cell_type": "code",
      "source": [
        "# Creating and Testing the Model\n",
        "ABmodel = RandomForestClassifier(n_estimators = 50)\n",
        "ABmodel.fit(x_train,y_train)\n",
        "y_pred = ABmodel.predict(x_test)"
      ],
      "metadata": {
        "id": "79bE5oDreQIo"
      },
      "execution_count": 54,
      "outputs": []
    },
    {
      "cell_type": "markdown",
      "source": [
        "### Gradient Boost"
      ],
      "metadata": {
        "id": "Vn0632LqeWHg"
      }
    },
    {
      "cell_type": "code",
      "source": [
        "# Gradient Boost\n",
        "# Plotting the results of Accuracy vs n_estimators\n",
        "results = []\n",
        "y_pred = []\n",
        "auc_score =[]\n",
        "n_estimator_options = [50,100,150,200,250,300,350,400,450,500]\n",
        "for trees in n_estimator_options:\n",
        "  model = GradientBoostingClassifier(n_estimators = trees, random_state = 101)\n",
        "  model.fit(x_train,y_train)\n",
        "  y_pred = model.predict(x_test)\n",
        "  accuracy = np.mean(y_test == y_pred)\n",
        "  results.append(accuracy)\n",
        "  auc_score.append(roc_auc_score(y_test, y_pred))\n",
        "\n",
        "plt.figure(figsize = (8,4))\n",
        "pd.Series(results, n_estimator_options).plot(color = \"darkred\",marker = \"o\")"
      ],
      "metadata": {
        "colab": {
          "base_uri": "https://localhost:8080/",
          "height": 283
        },
        "id": "KbZTJbW5hhmF",
        "outputId": "f862d8ec-1105-4090-ab0c-e8bae0e03b92"
      },
      "execution_count": 55,
      "outputs": [
        {
          "output_type": "execute_result",
          "data": {
            "text/plain": [
              "<AxesSubplot:>"
            ]
          },
          "metadata": {},
          "execution_count": 55
        },
        {
          "output_type": "display_data",
          "data": {
            "text/plain": [
              "<Figure size 576x288 with 1 Axes>"
            ],
            "image/png": "[encoded data removed]"
          },
          "metadata": {
            "needs_background": "light"
          }
        }
      ]
    },
    {
      "cell_type": "code",
      "source": [
        "# Plotting the results of AUC vs n_estimators\n",
        "plt.figure(figsize = (8,4))\n",
        "pd.Series(auc_score, n_estimator_options).plot(color = \"darkred\",marker = \"o\")\n",
        "AB_accuracy = np.mean(y_test == y_pred)\n",
        "AB_auc = roc_auc_score(y_test, y_pred)"
      ],
      "metadata": {
        "colab": {
          "base_uri": "https://localhost:8080/",
          "height": 265
        },
        "id": "KDRH9h_bhoqi",
        "outputId": "12226c2d-91e3-460d-9bf1-2ba6f2b89cb9"
      },
      "execution_count": 56,
      "outputs": [
        {
          "output_type": "display_data",
          "data": {
            "text/plain": [
              "<Figure size 576x288 with 1 Axes>"
            ],
            "image/png": "[encoded data removed]"
          },
          "metadata": {
            "needs_background": "light"
          }
        }
      ]
    },
    {
      "cell_type": "markdown",
      "source": [
        "Questions\n",
        "1. Write your observations about the Classifier's behavior with respect to the number of estimators.\n",
        "\n",
        "\n",
        "> The accracy graph has an overall trend of decreasing as the number of estimators increases. There is an increase in accuracy though between 200 and 250 as the number of estimators. On the AUC graph, the AUC increases sharply from 50 to 100 estimators, then levels out as n_estimators increases.\n",
        "\n",
        "2. Is there an optimal value of the estimator within the given range?\n",
        "\n",
        "> There is no specific point that is clearly the best based on the two graphs, but I decided to choose n_estimators as 250 since it produced a result of near max AUC and the third highest point of accuracy based on the number of estimators."
      ],
      "metadata": {
        "id": "L8V0bCHtiC7x"
      }
    },
    {
      "cell_type": "code",
      "source": [
        "# Creating and Testing the Model\n",
        "GBmodel = GradientBoostingClassifier(n_estimators = 250)\n",
        "GBmodel.fit(x_train,y_train)\n",
        "y_pred = GBmodel.predict(x_test)\n",
        "GB_accuracy = np.mean(y_test == y_pred)\n",
        "GB_auc = roc_auc_score(y_test, y_pred)"
      ],
      "metadata": {
        "id": "_C1oOoQLhq5A"
      },
      "execution_count": 57,
      "outputs": []
    },
    {
      "cell_type": "markdown",
      "source": [
        "### XGB Model"
      ],
      "metadata": {
        "id": "x58VDl3piIon"
      }
    },
    {
      "cell_type": "code",
      "source": [
        "# X Gradient Boost\n",
        "# Plotting the results of Accuracy vs n_estimators\n",
        "results = []\n",
        "y_pred = []\n",
        "auc_score =[]\n",
        "n_estimator_options = [50,100,150,200,250,300,350,400,450,500]\n",
        "for trees in n_estimator_options:\n",
        "  model = XGBClassifier(n_estimators = trees, random_state = 101)\n",
        "  model.fit(x_train,y_train)\n",
        "  y_pred = model.predict(x_test)\n",
        "  accuracy = np.mean(y_test == y_pred)\n",
        "  results.append(accuracy)\n",
        "  auc_score.append(roc_auc_score(y_test, y_pred))\n",
        "\n",
        "plt.figure(figsize = (8,4))\n",
        "pd.Series(results, n_estimator_options).plot(color = \"darkred\",marker = \"o\")"
      ],
      "metadata": {
        "colab": {
          "base_uri": "https://localhost:8080/",
          "height": 283
        },
        "id": "HVbF-74-iKrj",
        "outputId": "315e2222-ee50-4b1f-b0b3-3f6543de6f32"
      },
      "execution_count": 58,
      "outputs": [
        {
          "output_type": "execute_result",
          "data": {
            "text/plain": [
              "<AxesSubplot:>"
            ]
          },
          "metadata": {},
          "execution_count": 58
        },
        {
          "output_type": "display_data",
          "data": {
            "text/plain": [
              "<Figure size 576x288 with 1 Axes>"
            ],
            "image/png": "[encoded data removed]"
          },
          "metadata": {
            "needs_background": "light"
          }
        }
      ]
    },
    {
      "cell_type": "code",
      "source": [
        "# Plotting the results of AUC vs n_estimators\n",
        "plt.figure(figsize = (8,4))\n",
        "pd.Series(auc_score, n_estimator_options).plot(color = \"darkred\",marker = \"o\")"
      ],
      "metadata": {
        "id": "FjDfpxlRnzV7",
        "colab": {
          "base_uri": "https://localhost:8080/",
          "height": 283
        },
        "outputId": "456174c1-d271-4ef7-aec2-353ad4ceb9b9"
      },
      "execution_count": 59,
      "outputs": [
        {
          "output_type": "execute_result",
          "data": {
            "text/plain": [
              "<AxesSubplot:>"
            ]
          },
          "metadata": {},
          "execution_count": 59
        },
        {
          "output_type": "display_data",
          "data": {
            "text/plain": [
              "<Figure size 576x288 with 1 Axes>"
            ],
            "image/png": "[encoded data removed]"
          },
          "metadata": {
            "needs_background": "light"
          }
        }
      ]
    },
    {
      "cell_type": "markdown",
      "source": [
        "Questions\n",
        "1. Write your observations about the Classifier's behavior with respect to the number of estimators.\n",
        "\n",
        "\n",
        "> The classifier's accuracy maxes out with 100 estimators, then drops before it levels out as n_estimators increases up to 500. The difference in accuracy, though, is not significant as the difference between the highest and lowest accuracies is about 0.002. On the other hand, the AUC vs n_estimators curve increases as n_estimators increases. It levels out around 200 estimators. \n",
        "\n",
        "2. Is there an optimal value of the estimator within the given range?\n",
        "\n",
        "> There is no point that is the optimal for both accuracy and AUC, but I decided to choose the number of estimators as 150 since it is the second highest accuracy and has an AUC of right around where it levels off."
      ],
      "metadata": {
        "id": "Yhg24LTFJmlB"
      }
    },
    {
      "cell_type": "code",
      "source": [
        "# Creating and Testing the Model\n",
        "XGBmodel = XGBClassifier(n_estimators = 150)\n",
        "XGBmodel.fit(x_train,y_train)\n",
        "y_pred = GBmodel.predict(x_test)\n",
        "XGB_accuracy = np.mean(y_test == y_pred)\n",
        "XGB_auc = roc_auc_score(y_test, y_pred)"
      ],
      "metadata": {
        "id": "wej3zpoXJ0LA"
      },
      "execution_count": 60,
      "outputs": []
    },
    {
      "cell_type": "markdown",
      "source": [
        "## 5. Compare Performance"
      ],
      "metadata": {
        "id": "3g-6FxzQnw9N"
      }
    },
    {
      "cell_type": "code",
      "source": [
        "data = {'Random Forest': (RF_accuracy, RF_auc),\n",
        "        'AdaBoost': (AB_accuracy, AB_auc), \n",
        "        'Gradient Boost': (GB_accuracy, GB_auc),\n",
        "        'XGB': (XGB_accuracy, XGB_auc)}\n",
        "df = pd.DataFrame(data, columns = ['Random Forest', 'AdaBoost', 'Gradient Boost', 'XGB'], index = ['Accuracy', 'AUC'])\n",
        "df"
      ],
      "metadata": {
        "colab": {
          "base_uri": "https://localhost:8080/",
          "height": 112
        },
        "id": "IhYOp2WrK1Zt",
        "outputId": "1552a387-acb5-403a-f714-074c3a5152b8"
      },
      "execution_count": 62,
      "outputs": [
        {
          "output_type": "execute_result",
          "data": {
            "text/plain": [
              "          Random Forest  AdaBoost  Gradient Boost       XGB\n",
              "Accuracy       0.838462  0.844727        0.846263  0.846263\n",
              "AUC            0.747793  0.757372        0.758467  0.758467"
            ],
            "text/html": [
              "\n",
              "  <div id=\"df-ea8d0b47-4ff0-4b79-9c53-1011059fa507\">\n",
              "    <div class=\"colab-df-container\">\n",
              "      <div>\n",
              "<style scoped>\n",
              "    .dataframe tbody tr th:only-of-type {\n",
              "        vertical-align: middle;\n",
              "    }\n",
              "\n",
              "    .dataframe tbody tr th {\n",
              "        vertical-align: top;\n",
              "    }\n",
              "\n",
              "    .dataframe thead th {\n",
              "        text-align: right;\n",
              "    }\n",
              "</style>\n",
              "<table border=\"1\" class=\"dataframe\">\n",
              "  <thead>\n",
              "    <tr style=\"text-align: right;\">\n",
              "      <th></th>\n",
              "      <th>Random Forest</th>\n",
              "      <th>AdaBoost</th>\n",
              "      <th>Gradient Boost</th>\n",
              "      <th>XGB</th>\n",
              "    </tr>\n",
              "  </thead>\n",
              "  <tbody>\n",
              "    <tr>\n",
              "      <th>Accuracy</th>\n",
              "      <td>0.838462</td>\n",
              "      <td>0.844727</td>\n",
              "      <td>0.846263</td>\n",
              "      <td>0.846263</td>\n",
              "    </tr>\n",
              "    <tr>\n",
              "      <th>AUC</th>\n",
              "      <td>0.747793</td>\n",
              "      <td>0.757372</td>\n",
              "      <td>0.758467</td>\n",
              "      <td>0.758467</td>\n",
              "    </tr>\n",
              "  </tbody>\n",
              "</table>\n",
              "</div>\n",
              "      <button class=\"colab-df-convert\" onclick=\"convertToInteractive('df-ea8d0b47-4ff0-4b79-9c53-1011059fa507')\"\n",
              "              title=\"Convert this dataframe to an interactive table.\"\n",
              "              style=\"display:none;\">\n",
              "        \n",
              "  <svg xmlns=\"http://www.w3.org/2000/svg\" height=\"24px\"viewBox=\"0 0 24 24\"\n",
              "       width=\"24px\">\n",
              "    <path d=\"M0 0h24v24H0V0z\" fill=\"none\"/>\n",
              "    <path d=\"M18.56 5.44l.94 2.06.94-2.06 2.06-.94-2.06-.94-.94-2.06-.94 2.06-2.06.94zm-11 1L8.5 8.5l.94-2.06 2.06-.94-2.06-.94L8.5 2.5l-.94 2.06-2.06.94zm10 10l.94 2.06.94-2.06 2.06-.94-2.06-.94-.94-2.06-.94 2.06-2.06.94z\"/><path d=\"M17.41 7.96l-1.37-1.37c-.4-.4-.92-.59-1.43-.59-.52 0-1.04.2-1.43.59L10.3 9.45l-7.72 7.72c-.78.78-.78 2.05 0 2.83L4 21.41c.39.39.9.59 1.41.59.51 0 1.02-.2 1.41-.59l7.78-7.78 2.81-2.81c.8-.78.8-2.07 0-2.86zM5.41 20L4 18.59l7.72-7.72 1.47 1.35L5.41 20z\"/>\n",
              "  </svg>\n",
              "      </button>\n",
              "      \n",
              "  <style>\n",
              "    .colab-df-container {\n",
              "      display:flex;\n",
              "      flex-wrap:wrap;\n",
              "      gap: 12px;\n",
              "    }\n",
              "\n",
              "    .colab-df-convert {\n",
              "      background-color: #E8F0FE;\n",
              "      border: none;\n",
              "      border-radius: 50%;\n",
              "      cursor: pointer;\n",
              "      display: none;\n",
              "      fill: #1967D2;\n",
              "      height: 32px;\n",
              "      padding: 0 0 0 0;\n",
              "      width: 32px;\n",
              "    }\n",
              "\n",
              "    .colab-df-convert:hover {\n",
              "      background-color: #E2EBFA;\n",
              "      box-shadow: 0px 1px 2px rgba(60, 64, 67, 0.3), 0px 1px 3px 1px rgba(60, 64, 67, 0.15);\n",
              "      fill: #174EA6;\n",
              "    }\n",
              "\n",
              "    [theme=dark] .colab-df-convert {\n",
              "      background-color: #3B4455;\n",
              "      fill: #D2E3FC;\n",
              "    }\n",
              "\n",
              "    [theme=dark] .colab-df-convert:hover {\n",
              "      background-color: #434B5C;\n",
              "      box-shadow: 0px 1px 3px 1px rgba(0, 0, 0, 0.15);\n",
              "      filter: drop-shadow(0px 1px 2px rgba(0, 0, 0, 0.3));\n",
              "      fill: #FFFFFF;\n",
              "    }\n",
              "  </style>\n",
              "\n",
              "      <script>\n",
              "        const buttonEl =\n",
              "          document.querySelector('#df-ea8d0b47-4ff0-4b79-9c53-1011059fa507 button.colab-df-convert');\n",
              "        buttonEl.style.display =\n",
              "          google.colab.kernel.accessAllowed ? 'block' : 'none';\n",
              "\n",
              "        async function convertToInteractive(key) {\n",
              "          const element = document.querySelector('#df-ea8d0b47-4ff0-4b79-9c53-1011059fa507');\n",
              "          const dataTable =\n",
              "            await google.colab.kernel.invokeFunction('convertToInteractive',\n",
              "                                                     [key], {});\n",
              "          if (!dataTable) return;\n",
              "\n",
              "          const docLinkHtml = 'Like what you see? Visit the ' +\n",
              "            '<a target=\"_blank\" href=https://colab.research.google.com/notebooks/data_table.ipynb>data table notebook</a>'\n",
              "            + ' to learn more about interactive tables.';\n",
              "          element.innerHTML = '';\n",
              "          dataTable['output_type'] = 'display_data';\n",
              "          await google.colab.output.renderOutput(dataTable, element);\n",
              "          const docLink = document.createElement('div');\n",
              "          docLink.innerHTML = docLinkHtml;\n",
              "          element.appendChild(docLink);\n",
              "        }\n",
              "      </script>\n",
              "    </div>\n",
              "  </div>\n",
              "  "
            ]
          },
          "metadata": {},
          "execution_count": 62
        }
      ]
    },
    {
      "cell_type": "markdown",
      "source": [
        "In terms of accuracy, the XGradident Boost model performed the best while in terms of AUC both Gradient and XGB tied for the highest value."
      ],
      "metadata": {
        "id": "5F-gLF2nSZwR"
      }
    }
  ]
}